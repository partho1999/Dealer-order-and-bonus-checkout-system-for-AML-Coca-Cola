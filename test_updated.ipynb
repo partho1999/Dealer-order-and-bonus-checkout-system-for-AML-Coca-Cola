{
 "cells": [
  {
   "cell_type": "markdown",
   "metadata": {},
   "source": [
    "## import "
   ]
  },
  {
   "cell_type": "code",
   "execution_count": 1,
   "metadata": {},
   "outputs": [],
   "source": [
    "import pandas as pd "
   ]
  },
  {
   "cell_type": "markdown",
   "metadata": {},
   "source": [
    "## dic()"
   ]
  },
  {
   "cell_type": "code",
   "execution_count": 2,
   "metadata": {},
   "outputs": [
    {
     "data": {
      "text/plain": [
       "{'item_1': '12', 'item_2': '12', 'item_3': '12'}"
      ]
     },
     "execution_count": 2,
     "metadata": {},
     "output_type": "execute_result"
    }
   ],
   "source": [
    "data = {\n",
    "    'item_1': '12', \n",
    "    'item_2': '12', \n",
    "    'item_3': '12', \n",
    "    'item_4': '0'\n",
    "}\n",
    "data ={x:y for x,y in data.items() if y!='0'}\n",
    "data"
   ]
  },
  {
   "cell_type": "markdown",
   "metadata": {},
   "source": [
    "## make list() from dic()"
   ]
  },
  {
   "cell_type": "code",
   "execution_count": 3,
   "metadata": {},
   "outputs": [
    {
     "name": "stdout",
     "output_type": "stream",
     "text": [
      "['1', '2', '3']\n",
      "['12', '12', '12']\n"
     ]
    }
   ],
   "source": [
    "id_lst =[]\n",
    "value_lst =[]\n",
    "\n",
    "for i in data.items():\n",
    "    id = i[0].replace('item_', '')\n",
    "    id_lst.append(id)\n",
    "    value = i[1]\n",
    "    value_lst.append(value)\n",
    "\n",
    "print(id_lst)\n",
    "print(value_lst)"
   ]
  },
  {
   "cell_type": "markdown",
   "metadata": {},
   "source": [
    "## product table"
   ]
  },
  {
   "cell_type": "code",
   "execution_count": 4,
   "metadata": {},
   "outputs": [
    {
     "data": {
      "text/html": [
       "<div>\n",
       "<style scoped>\n",
       "    .dataframe tbody tr th:only-of-type {\n",
       "        vertical-align: middle;\n",
       "    }\n",
       "\n",
       "    .dataframe tbody tr th {\n",
       "        vertical-align: top;\n",
       "    }\n",
       "\n",
       "    .dataframe thead th {\n",
       "        text-align: right;\n",
       "    }\n",
       "</style>\n",
       "<table border=\"1\" class=\"dataframe\">\n",
       "  <thead>\n",
       "    <tr style=\"text-align: right;\">\n",
       "      <th></th>\n",
       "      <th>id</th>\n",
       "      <th>product</th>\n",
       "      <th>p_name</th>\n",
       "      <th>UOM</th>\n",
       "      <th>tp</th>\n",
       "    </tr>\n",
       "  </thead>\n",
       "  <tbody>\n",
       "    <tr>\n",
       "      <th>0</th>\n",
       "      <td>1</td>\n",
       "      <td>p001</td>\n",
       "      <td>Coca-cola-200ml(RGB)</td>\n",
       "      <td>CASE</td>\n",
       "      <td>200</td>\n",
       "    </tr>\n",
       "    <tr>\n",
       "      <th>1</th>\n",
       "      <td>2</td>\n",
       "      <td>p002</td>\n",
       "      <td>sprite-200ml(RGB)</td>\n",
       "      <td>CASE</td>\n",
       "      <td>200</td>\n",
       "    </tr>\n",
       "    <tr>\n",
       "      <th>2</th>\n",
       "      <td>3</td>\n",
       "      <td>p003</td>\n",
       "      <td>coca-cola-250ml(PET)</td>\n",
       "      <td>CASE</td>\n",
       "      <td>250</td>\n",
       "    </tr>\n",
       "    <tr>\n",
       "      <th>3</th>\n",
       "      <td>4</td>\n",
       "      <td>p004</td>\n",
       "      <td>sprite-250ml(PET)</td>\n",
       "      <td>CASE</td>\n",
       "      <td>250</td>\n",
       "    </tr>\n",
       "  </tbody>\n",
       "</table>\n",
       "</div>"
      ],
      "text/plain": [
       "   id product                p_name   UOM   tp\n",
       "0   1    p001  Coca-cola-200ml(RGB)  CASE  200\n",
       "1   2    p002     sprite-200ml(RGB)  CASE  200\n",
       "2   3    p003  coca-cola-250ml(PET)  CASE  250\n",
       "3   4    p004     sprite-250ml(PET)  CASE  250"
      ]
     },
     "execution_count": 4,
     "metadata": {},
     "output_type": "execute_result"
    }
   ],
   "source": [
    "df_1=pd.read_csv(r'D:\\Desktop\\sales order report\\salesorder\\product_update.csv')\n",
    "df_1"
   ]
  },
  {
   "cell_type": "markdown",
   "metadata": {},
   "source": [
    "## add last 3 column on copy dataframe"
   ]
  },
  {
   "cell_type": "code",
   "execution_count": 5,
   "metadata": {},
   "outputs": [
    {
     "data": {
      "text/html": [
       "<div>\n",
       "<style scoped>\n",
       "    .dataframe tbody tr th:only-of-type {\n",
       "        vertical-align: middle;\n",
       "    }\n",
       "\n",
       "    .dataframe tbody tr th {\n",
       "        vertical-align: top;\n",
       "    }\n",
       "\n",
       "    .dataframe thead th {\n",
       "        text-align: right;\n",
       "    }\n",
       "</style>\n",
       "<table border=\"1\" class=\"dataframe\">\n",
       "  <thead>\n",
       "    <tr style=\"text-align: right;\">\n",
       "      <th></th>\n",
       "      <th>id</th>\n",
       "      <th>product</th>\n",
       "      <th>p_name</th>\n",
       "      <th>UOM</th>\n",
       "      <th>tp</th>\n",
       "      <th>order_qty</th>\n",
       "      <th>bonus_qty</th>\n",
       "      <th>balance</th>\n",
       "    </tr>\n",
       "  </thead>\n",
       "  <tbody>\n",
       "    <tr>\n",
       "      <th>0</th>\n",
       "      <td>1</td>\n",
       "      <td>p001</td>\n",
       "      <td>Coca-cola-200ml(RGB)</td>\n",
       "      <td>CASE</td>\n",
       "      <td>200</td>\n",
       "      <td>0</td>\n",
       "      <td>0</td>\n",
       "      <td>0</td>\n",
       "    </tr>\n",
       "    <tr>\n",
       "      <th>1</th>\n",
       "      <td>2</td>\n",
       "      <td>p002</td>\n",
       "      <td>sprite-200ml(RGB)</td>\n",
       "      <td>CASE</td>\n",
       "      <td>200</td>\n",
       "      <td>0</td>\n",
       "      <td>0</td>\n",
       "      <td>0</td>\n",
       "    </tr>\n",
       "    <tr>\n",
       "      <th>2</th>\n",
       "      <td>3</td>\n",
       "      <td>p003</td>\n",
       "      <td>coca-cola-250ml(PET)</td>\n",
       "      <td>CASE</td>\n",
       "      <td>250</td>\n",
       "      <td>0</td>\n",
       "      <td>0</td>\n",
       "      <td>0</td>\n",
       "    </tr>\n",
       "    <tr>\n",
       "      <th>3</th>\n",
       "      <td>4</td>\n",
       "      <td>p004</td>\n",
       "      <td>sprite-250ml(PET)</td>\n",
       "      <td>CASE</td>\n",
       "      <td>250</td>\n",
       "      <td>0</td>\n",
       "      <td>0</td>\n",
       "      <td>0</td>\n",
       "    </tr>\n",
       "  </tbody>\n",
       "</table>\n",
       "</div>"
      ],
      "text/plain": [
       "   id product                p_name   UOM   tp  order_qty  bonus_qty  balance\n",
       "0   1    p001  Coca-cola-200ml(RGB)  CASE  200          0          0        0\n",
       "1   2    p002     sprite-200ml(RGB)  CASE  200          0          0        0\n",
       "2   3    p003  coca-cola-250ml(PET)  CASE  250          0          0        0\n",
       "3   4    p004     sprite-250ml(PET)  CASE  250          0          0        0"
      ]
     },
     "execution_count": 5,
     "metadata": {},
     "output_type": "execute_result"
    }
   ],
   "source": [
    "df_p_1= df_1.copy()\n",
    "\n",
    "df_p_1['order_qty'] = 0\n",
    "df_p_1['bonus_qty'] = 0\n",
    "df_p_1['balance'] = 0\n",
    "df_p_1"
   ]
  },
  {
   "cell_type": "markdown",
   "metadata": {},
   "source": [
    "## promotion table after filtering  the dealer name"
   ]
  },
  {
   "cell_type": "code",
   "execution_count": 6,
   "metadata": {},
   "outputs": [
    {
     "name": "stdout",
     "output_type": "stream",
     "text": [
      "----Promotion table----\n"
     ]
    },
    {
     "data": {
      "text/html": [
       "<div>\n",
       "<style scoped>\n",
       "    .dataframe tbody tr th:only-of-type {\n",
       "        vertical-align: middle;\n",
       "    }\n",
       "\n",
       "    .dataframe tbody tr th {\n",
       "        vertical-align: top;\n",
       "    }\n",
       "\n",
       "    .dataframe thead th {\n",
       "        text-align: right;\n",
       "    }\n",
       "</style>\n",
       "<table border=\"1\" class=\"dataframe\">\n",
       "  <thead>\n",
       "    <tr style=\"text-align: right;\">\n",
       "      <th></th>\n",
       "      <th>id</th>\n",
       "      <th>p_code</th>\n",
       "      <th>p_name</th>\n",
       "      <th>UOM</th>\n",
       "      <th>order_qty</th>\n",
       "      <th>bonus_qty</th>\n",
       "      <th>status</th>\n",
       "      <th>sdp</th>\n",
       "      <th>region</th>\n",
       "      <th>territory</th>\n",
       "      <th>remarks</th>\n",
       "      <th>efficitive_data</th>\n",
       "      <th>Entry_date</th>\n",
       "    </tr>\n",
       "  </thead>\n",
       "  <tbody>\n",
       "    <tr>\n",
       "      <th>0</th>\n",
       "      <td>1</td>\n",
       "      <td>p001</td>\n",
       "      <td>coca-cola-200ml(RGB)</td>\n",
       "      <td>CASE</td>\n",
       "      <td>12</td>\n",
       "      <td>2</td>\n",
       "      <td>0</td>\n",
       "      <td>db-001</td>\n",
       "      <td>Khulna</td>\n",
       "      <td>khulna base-1</td>\n",
       "      <td>good</td>\n",
       "      <td>1/11/2022</td>\n",
       "      <td>10/11/2022</td>\n",
       "    </tr>\n",
       "    <tr>\n",
       "      <th>1</th>\n",
       "      <td>2</td>\n",
       "      <td>p002</td>\n",
       "      <td>sprite-200ml(RGB)</td>\n",
       "      <td>CASE</td>\n",
       "      <td>12</td>\n",
       "      <td>1</td>\n",
       "      <td>1</td>\n",
       "      <td>db-001</td>\n",
       "      <td>Khulna</td>\n",
       "      <td>khulna base-1</td>\n",
       "      <td>good</td>\n",
       "      <td>1/11/2022</td>\n",
       "      <td>10/11/2022</td>\n",
       "    </tr>\n",
       "  </tbody>\n",
       "</table>\n",
       "</div>"
      ],
      "text/plain": [
       "   id p_code                p_name   UOM  order_qty  bonus_qty  status  \\\n",
       "0   1   p001  coca-cola-200ml(RGB)  CASE         12          2       0   \n",
       "1   2   p002     sprite-200ml(RGB)  CASE         12          1       1   \n",
       "\n",
       "      sdp  region      territory remarks efficitive_data  Entry_date  \n",
       "0  db-001  Khulna  khulna base-1    good       1/11/2022  10/11/2022  \n",
       "1  db-001  Khulna  khulna base-1    good       1/11/2022  10/11/2022  "
      ]
     },
     "execution_count": 6,
     "metadata": {},
     "output_type": "execute_result"
    }
   ],
   "source": [
    "data_1 = {'id': [1,2,3,4,5,6],\n",
    "        'p_code': ['p001','p002', 'p002', 'p003', 'p004','p003'],\n",
    "        'p_name': ['coca-cola-200ml(RGB)','sprite-200ml(RGB)','sprite-200ml(RGB) ', 'coca-cola-250ml(PET)', 'sprit-250(PET)','coca-cola-250ml(PET)'],\n",
    "        'UOM': ['CASE','CASE', 'CASE', 'CASE', 'CASE', 'CASE'],\n",
    "        'order_qty': [12,12, 12, 12, 12,12],\n",
    "        'bonus_qty': [2,1, 1, 1, 1, 1],\n",
    "        'status': [0,1, 1, 0, 1, 1],\n",
    "        'sdp': ['db-001','db-001', 'db-002', 'db-003', 'db-004','db-005'],\n",
    "        'region':['Khulna','Khulna', 'Barisal', 'Cumilla', 'Chittagong','Khulna'],\n",
    "        'territory':['khulna base-1','khulna base-1', 'gournodi', 'nohakhali', 'ctg base-1','jessore'],\n",
    "        'remarks':['good','good', 'average', 'happy', 'not bad','good'],\n",
    "        'efficitive_data':['1/11/2022','1/11/2022', '1/11/2022', '1/11/2022', '1/11/2022',  '1/11/2022'],\n",
    "        'Entry_date':['10/11/2022','10/11/2022', '10/11/2022', '10/11/2022', '10/11/2022',  '10/11/2022']\n",
    "        }\n",
    "  \n",
    "# Create DataFrame\n",
    "df = pd.DataFrame(data_1)\n",
    "#df = df.insert(loc = 4,column = 'PPA',value = '<input type=\"checkbox\" />') \n",
    "# Print the output.\n",
    "print(\"----Promotion table----\")\n",
    "# print(df)\n",
    "\n",
    "dealer_name = \"db-001\"\n",
    "df_1=df[df['sdp']==dealer_name]\n",
    "#df_1 = df_1.reset_index()\n",
    "df_1"
   ]
  },
  {
   "cell_type": "code",
   "execution_count": 7,
   "metadata": {},
   "outputs": [
    {
     "name": "stdout",
     "output_type": "stream",
     "text": [
      "[12, 12]\n",
      "[2, 1]\n",
      "['p001', 'p002']\n"
     ]
    }
   ],
   "source": [
    "id_lst = [int(x) for x in id_lst]\n",
    "df_p_2 = df_p_1[df_p_1['id'].isin(id_lst)]\n",
    "\n",
    "\n",
    "product_code=list(df_p_2['product'])\n",
    "product_code\n",
    "\n",
    "\n",
    "dff = df_1[df_1['p_code'].isin(product_code)]\n",
    "dff\n",
    "\n",
    "order_qty = [int(x) for x in list(dff['order_qty'])]\n",
    "bonus_qty = [int(x) for x in list(dff['bonus_qty'])]\n",
    "pro_code =  [x for x in list(dff['p_code'])]\n",
    "print(order_qty) \n",
    "print(bonus_qty)\n",
    "print(pro_code)\n"
   ]
  },
  {
   "cell_type": "code",
   "execution_count": 8,
   "metadata": {},
   "outputs": [],
   "source": [
    "value_lst = [int(x) for x in value_lst]\n",
    "df_p_2 = df_p_1[df_p_1['id'].isin(id_lst)]\n",
    "tp=df_p_2['tp']\n",
    "\n",
    "# value_lst_1 =list(filter(lambda a: a != 0, value_lst))\n",
    "# value_lst_1"
   ]
  },
  {
   "cell_type": "code",
   "execution_count": 9,
   "metadata": {},
   "outputs": [
    {
     "name": "stdout",
     "output_type": "stream",
     "text": [
      "2\n",
      "12\n",
      "1\n",
      "12\n"
     ]
    }
   ],
   "source": [
    "for num1, num2 in zip(bonus_qty,value_lst):\n",
    "    print(num1)\n",
    "    print(num2)"
   ]
  },
  {
   "cell_type": "code",
   "execution_count": 10,
   "metadata": {},
   "outputs": [
    {
     "data": {
      "text/plain": [
       "[2, 1]"
      ]
     },
     "execution_count": 10,
     "metadata": {},
     "output_type": "execute_result"
    }
   ],
   "source": [
    "bnv = [int(num1*num2) for num1, num2 in zip(bonus_qty,value_lst)]\n",
    "bnv\n",
    "divition = [int(n1/n2) for n1,n2 in zip(bnv, order_qty)]\n",
    "divition"
   ]
  },
  {
   "cell_type": "code",
   "execution_count": 11,
   "metadata": {},
   "outputs": [
    {
     "data": {
      "text/plain": [
       "[12, 12, 12]"
      ]
     },
     "execution_count": 11,
     "metadata": {},
     "output_type": "execute_result"
    }
   ],
   "source": [
    "value_lst"
   ]
  },
  {
   "cell_type": "code",
   "execution_count": 12,
   "metadata": {},
   "outputs": [
    {
     "data": {
      "text/html": [
       "<div>\n",
       "<style scoped>\n",
       "    .dataframe tbody tr th:only-of-type {\n",
       "        vertical-align: middle;\n",
       "    }\n",
       "\n",
       "    .dataframe tbody tr th {\n",
       "        vertical-align: top;\n",
       "    }\n",
       "\n",
       "    .dataframe thead th {\n",
       "        text-align: right;\n",
       "    }\n",
       "</style>\n",
       "<table border=\"1\" class=\"dataframe\">\n",
       "  <thead>\n",
       "    <tr style=\"text-align: right;\">\n",
       "      <th></th>\n",
       "      <th>id</th>\n",
       "      <th>product</th>\n",
       "      <th>p_name</th>\n",
       "      <th>UOM</th>\n",
       "      <th>tp</th>\n",
       "      <th>order_qty</th>\n",
       "      <th>bonus_qty</th>\n",
       "      <th>balance</th>\n",
       "    </tr>\n",
       "  </thead>\n",
       "  <tbody>\n",
       "    <tr>\n",
       "      <th>0</th>\n",
       "      <td>1</td>\n",
       "      <td>p001</td>\n",
       "      <td>Coca-cola-200ml(RGB)</td>\n",
       "      <td>CASE</td>\n",
       "      <td>200</td>\n",
       "      <td>12</td>\n",
       "      <td>2</td>\n",
       "      <td>2400</td>\n",
       "    </tr>\n",
       "    <tr>\n",
       "      <th>1</th>\n",
       "      <td>2</td>\n",
       "      <td>p002</td>\n",
       "      <td>sprite-200ml(RGB)</td>\n",
       "      <td>CASE</td>\n",
       "      <td>200</td>\n",
       "      <td>12</td>\n",
       "      <td>1</td>\n",
       "      <td>2400</td>\n",
       "    </tr>\n",
       "    <tr>\n",
       "      <th>2</th>\n",
       "      <td>3</td>\n",
       "      <td>p003</td>\n",
       "      <td>coca-cola-250ml(PET)</td>\n",
       "      <td>CASE</td>\n",
       "      <td>250</td>\n",
       "      <td>12</td>\n",
       "      <td>0</td>\n",
       "      <td>3000</td>\n",
       "    </tr>\n",
       "    <tr>\n",
       "      <th>3</th>\n",
       "      <td>4</td>\n",
       "      <td>p004</td>\n",
       "      <td>sprite-250ml(PET)</td>\n",
       "      <td>CASE</td>\n",
       "      <td>250</td>\n",
       "      <td>0</td>\n",
       "      <td>0</td>\n",
       "      <td>0</td>\n",
       "    </tr>\n",
       "  </tbody>\n",
       "</table>\n",
       "</div>"
      ],
      "text/plain": [
       "   id product                p_name   UOM   tp  order_qty  bonus_qty  balance\n",
       "0   1    p001  Coca-cola-200ml(RGB)  CASE  200         12          2     2400\n",
       "1   2    p002     sprite-200ml(RGB)  CASE  200         12          1     2400\n",
       "2   3    p003  coca-cola-250ml(PET)  CASE  250         12          0     3000\n",
       "3   4    p004     sprite-250ml(PET)  CASE  250          0          0        0"
      ]
     },
     "execution_count": 12,
     "metadata": {},
     "output_type": "execute_result"
    }
   ],
   "source": [
    "df_p_1.loc[df_p_1['id'].isin(id_lst), \"order_qty\"] =value_lst\n",
    "df_p_1.loc[df_p_1['product'].isin(pro_code), \"bonus_qty\"] = list(pd.Series(divition))\n",
    "df_p_1.loc[df_p_1['id'].isin(id_lst), \"balance\"] = tp*value_lst\n",
    "df_p_1 = df_p_1.fillna(0)\n",
    "df_p_1\n"
   ]
  },
  {
   "cell_type": "code",
   "execution_count": 14,
   "metadata": {},
   "outputs": [
    {
     "data": {
      "text/plain": [
       "7800"
      ]
     },
     "execution_count": 14,
     "metadata": {},
     "output_type": "execute_result"
    }
   ],
   "source": [
    "sum_balance = df_p_1['balance'].sum()\n",
    "sum_balance"
   ]
  },
  {
   "cell_type": "code",
   "execution_count": 22,
   "metadata": {},
   "outputs": [
    {
     "data": {
      "text/plain": [
       "600"
      ]
     },
     "execution_count": 22,
     "metadata": {},
     "output_type": "execute_result"
    }
   ],
   "source": [
    "pro_amount = df_p_1['tp'] * df_p_1['bonus_qty']\n",
    "pro_amount = pro_amount.sum()\n",
    "pro_amount\n"
   ]
  },
  {
   "cell_type": "code",
   "execution_count": 23,
   "metadata": {},
   "outputs": [
    {
     "data": {
      "text/plain": [
       "8400"
      ]
     },
     "execution_count": 23,
     "metadata": {},
     "output_type": "execute_result"
    }
   ],
   "source": [
    "net_total = sum_balance + pro_amount\n",
    "net_total"
   ]
  }
 ],
 "metadata": {
  "kernelspec": {
   "display_name": "Python 3.10.8 ('env': venv)",
   "language": "python",
   "name": "python3"
  },
  "language_info": {
   "codemirror_mode": {
    "name": "ipython",
    "version": 3
   },
   "file_extension": ".py",
   "mimetype": "text/x-python",
   "name": "python",
   "nbconvert_exporter": "python",
   "pygments_lexer": "ipython3",
   "version": "3.10.8"
  },
  "orig_nbformat": 4,
  "vscode": {
   "interpreter": {
    "hash": "2d79548cb043d89df884780948c3307b31d84d09b627d06fd3d4dea3d3800684"
   }
  }
 },
 "nbformat": 4,
 "nbformat_minor": 2
}
